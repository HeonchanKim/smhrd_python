{
 "cells": [
  {
   "cell_type": "code",
   "execution_count": 5,
   "id": "0acfffe4",
   "metadata": {},
   "outputs": [
    {
     "data": {
      "text/plain": [
       "'윌 스미스가 하드캐리'"
      ]
     },
     "execution_count": 5,
     "metadata": {},
     "output_type": "execute_result"
    }
   ],
   "source": [
    "s = \"윌 스미스가 하드캐리ㅋㅋㅋㅋㅋㅋㅋㅋ\"\n",
    "s.replace(\"ㅋ\",\"\")"
   ]
  },
  {
   "cell_type": "code",
   "execution_count": 14,
   "id": "cf28001a",
   "metadata": {},
   "outputs": [
    {
     "name": "stdout",
     "output_type": "stream",
     "text": [
      "윌 스미스가 하드캐리\n",
      "자스민 너무 멋지고 팬 엄청나게 생길듯\n",
      "색감도 노래도 너무 화려하고 재밌었어요\n",
      "오늘부터 디즈니 팬입니다\n",
      "디즈니의 새로운해석도 놀랍고. 윌스미스도 신의한수!\n"
     ]
    }
   ],
   "source": [
    "review_list1 = [\"윌 스미스가 하드캐리ㅋㅋㅋㅋㅋㅋㅋ\",\n",
    "               \"자스민 너무 멋지고 팬 엄청나게 생길듯\"]\n",
    "review_list2 = [\"색감도 노래도 너무 화려하고 재밌었어요ㅋㅋㅋㅋ\",\n",
    "               \"오늘부터 디즈니 팬입니다ㅋㅋㅋ\",\n",
    "               \"디즈니의 새로운해석도 놀랍고. 윌스미스도 신의한수!\"]\n",
    "\n",
    "for i in review_list1:\n",
    "    print(i.replace(\"ㅋ\",\"\"))\n",
    "for i in review_list2:\n",
    "    print(i.replace(\"ㅋ\",\"\"))"
   ]
  },
  {
   "cell_type": "code",
   "execution_count": 19,
   "id": "dfe431d3",
   "metadata": {},
   "outputs": [],
   "source": [
    "def string_replace(list_test):\n",
    "    for review in list_test:\n",
    "        print(review.replace(\"ㅋ\",\"\"))"
   ]
  },
  {
   "cell_type": "code",
   "execution_count": 22,
   "id": "c1707a28",
   "metadata": {},
   "outputs": [
    {
     "name": "stdout",
     "output_type": "stream",
     "text": [
      "윌 스미스가 하드캐리\n",
      "자스민 너무 멋지고 팬 엄청나게 생길듯\n"
     ]
    }
   ],
   "source": [
    "string_replace(review_list1)"
   ]
  },
  {
   "cell_type": "code",
   "execution_count": 23,
   "id": "04df08cd",
   "metadata": {},
   "outputs": [],
   "source": [
    "def number_sum(a,b):\n",
    "    result = a+b\n",
    "    return result"
   ]
  },
  {
   "cell_type": "code",
   "execution_count": 24,
   "id": "97359c88",
   "metadata": {},
   "outputs": [
    {
     "data": {
      "text/plain": [
       "13"
      ]
     },
     "execution_count": 24,
     "metadata": {},
     "output_type": "execute_result"
    }
   ],
   "source": [
    "number_sum(3,10)"
   ]
  },
  {
   "cell_type": "code",
   "execution_count": 25,
   "id": "735e02b3",
   "metadata": {},
   "outputs": [],
   "source": [
    "def number_sub(num1,num2):\n",
    "    return num1-num2"
   ]
  },
  {
   "cell_type": "code",
   "execution_count": 26,
   "id": "d6b397d0",
   "metadata": {},
   "outputs": [
    {
     "name": "stdout",
     "output_type": "stream",
     "text": [
      "첫 번째 정수 입력>> 10\n",
      "두 번째 정수 입력>> 3\n",
      "7\n"
     ]
    }
   ],
   "source": [
    "num1=int(input(\"첫 번째 정수 입력>> \"))\n",
    "num2=int(input(\"두 번째 정수 입력>> \"))\n",
    "result = number_sub(num1,num2)\n",
    "print(result)"
   ]
  },
  {
   "cell_type": "markdown",
   "id": "45a8b911",
   "metadata": {},
   "source": [
    "### 독스트링(docstring)\n",
    "- 함수의 설명을 작성할 수 있다(Shift+Tab)"
   ]
  },
  {
   "cell_type": "code",
   "execution_count": 32,
   "id": "badad81b",
   "metadata": {},
   "outputs": [],
   "source": [
    "\n",
    "def cal(num1,num2, op):\n",
    "    \"\"\"덧셈과 뺄셈을 계산하는 함수\"\"\"\n",
    "    if op == \"+\":\n",
    "        result = num1+num2\n",
    "    elif op == \"-\":\n",
    "        result = num1-num2\n",
    "    return result"
   ]
  },
  {
   "cell_type": "code",
   "execution_count": 30,
   "id": "0976f28e",
   "metadata": {},
   "outputs": [
    {
     "name": "stdout",
     "output_type": "stream",
     "text": [
      "첫 번째 정수 입력 >> 5\n",
      "두 번째 정수 입력 >> 3\n",
      "연산자 입력(+,-) >> +\n",
      "결과 : 8\n"
     ]
    }
   ],
   "source": [
    "num1 = int(input(\"첫 번째 정수 입력 >> \"))\n",
    "num2 = int(input(\"두 번째 정수 입력 >> \"))\n",
    "op = input(\"연산자 입력(+,-) >> \")\n",
    "result = cal(num1,num2, op)\n",
    "print(f\"결과 : {result}\")"
   ]
  },
  {
   "cell_type": "code",
   "execution_count": 34,
   "id": "7cc87acb",
   "metadata": {},
   "outputs": [],
   "source": [
    "def add(*args):\n",
    "    print(args)"
   ]
  },
  {
   "cell_type": "code",
   "execution_count": 35,
   "id": "cac7f2e9",
   "metadata": {},
   "outputs": [
    {
     "name": "stdout",
     "output_type": "stream",
     "text": [
      "(1, 2, 3, 4, 5)\n"
     ]
    }
   ],
   "source": [
    "add(1,2,3,4,5)"
   ]
  },
  {
   "cell_type": "code",
   "execution_count": 36,
   "id": "40c07874",
   "metadata": {},
   "outputs": [],
   "source": [
    "def add(*args):\n",
    "    sum = 0\n",
    "    for i in args:\n",
    "        sum += i\n",
    "    return sum"
   ]
  },
  {
   "cell_type": "code",
   "execution_count": 38,
   "id": "2926dfcd",
   "metadata": {},
   "outputs": [
    {
     "data": {
      "text/plain": [
       "55"
      ]
     },
     "execution_count": 38,
     "metadata": {},
     "output_type": "execute_result"
    }
   ],
   "source": [
    "add(1,2,3,4,5,6,7,8,9,10)"
   ]
  },
  {
   "cell_type": "code",
   "execution_count": 39,
   "id": "a6140386",
   "metadata": {},
   "outputs": [],
   "source": [
    "def add_sub(num1,num2):\n",
    "    return num1+num2, num1-num2"
   ]
  },
  {
   "cell_type": "code",
   "execution_count": 40,
   "id": "2ed826c8",
   "metadata": {},
   "outputs": [
    {
     "data": {
      "text/plain": [
       "(17, 3)"
      ]
     },
     "execution_count": 40,
     "metadata": {},
     "output_type": "execute_result"
    }
   ],
   "source": [
    "add_sub(10,7)"
   ]
  },
  {
   "cell_type": "code",
   "execution_count": 41,
   "id": "84fba7fd",
   "metadata": {},
   "outputs": [],
   "source": [
    "result_add, result_sub = add_sub(10,7)"
   ]
  },
  {
   "cell_type": "code",
   "execution_count": 42,
   "id": "16b2840d",
   "metadata": {},
   "outputs": [
    {
     "name": "stdout",
     "output_type": "stream",
     "text": [
      "17\n",
      "3\n"
     ]
    }
   ],
   "source": [
    "print(result_add)\n",
    "print(result_sub)"
   ]
  },
  {
   "cell_type": "code",
   "execution_count": 45,
   "id": "c4e1549f",
   "metadata": {},
   "outputs": [],
   "source": [
    "def power_of_N(num2,power=2):\n",
    "    return num2**power"
   ]
  },
  {
   "cell_type": "code",
   "execution_count": 46,
   "id": "c90b3c78",
   "metadata": {},
   "outputs": [
    {
     "data": {
      "text/plain": [
       "25"
      ]
     },
     "execution_count": 46,
     "metadata": {},
     "output_type": "execute_result"
    }
   ],
   "source": [
    "power_of_N(5)"
   ]
  },
  {
   "cell_type": "code",
   "execution_count": 47,
   "id": "ef85282b",
   "metadata": {},
   "outputs": [
    {
     "data": {
      "text/plain": [
       "125"
      ]
     },
     "execution_count": 47,
     "metadata": {},
     "output_type": "execute_result"
    }
   ],
   "source": [
    "power_of_N(5,3)"
   ]
  },
  {
   "cell_type": "code",
   "execution_count": 48,
   "id": "cfc82719",
   "metadata": {},
   "outputs": [],
   "source": [
    "def print_map(**kwargs):\n",
    "    print(kwargs)\n",
    "    for key,value in kwargs.items():\n",
    "        print(key,'/',value)"
   ]
  },
  {
   "cell_type": "code",
   "execution_count": 49,
   "id": "b32b7859",
   "metadata": {},
   "outputs": [
    {
     "name": "stdout",
     "output_type": "stream",
     "text": [
      "{'하나': 1}\n",
      "하나 / 1\n"
     ]
    }
   ],
   "source": [
    "print_map(하나=1)"
   ]
  },
  {
   "cell_type": "code",
   "execution_count": 50,
   "id": "aede5cbf",
   "metadata": {},
   "outputs": [
    {
     "name": "stdout",
     "output_type": "stream",
     "text": [
      "{'one': 1, 'two': 2}\n",
      "one / 1\n",
      "two / 2\n"
     ]
    }
   ],
   "source": [
    "print_map(one=1, two=2)"
   ]
  },
  {
   "cell_type": "markdown",
   "id": "5a5b7143",
   "metadata": {},
   "source": [
    "# 팀 문제 풀이"
   ]
  },
  {
   "cell_type": "code",
   "execution_count": 52,
   "id": "1fa3749e",
   "metadata": {},
   "outputs": [
    {
     "name": "stdout",
     "output_type": "stream",
     "text": [
      "658\n"
     ]
    }
   ],
   "source": [
    "strToInt = \"329\"\n",
    "print(int(strToInt)*2)"
   ]
  },
  {
   "cell_type": "code",
   "execution_count": 55,
   "id": "193296fa",
   "metadata": {},
   "outputs": [
    {
     "name": "stdout",
     "output_type": "stream",
     "text": [
      "01051798179\n"
     ]
    }
   ],
   "source": [
    "phone_number = \"010-5179-8179\"\n",
    "print(phone_number.replace('-',\"\"))"
   ]
  },
  {
   "cell_type": "code",
   "execution_count": 148,
   "id": "9f71c133",
   "metadata": {
    "scrolled": true
   },
   "outputs": [
    {
     "name": "stdout",
     "output_type": "stream",
     "text": [
      "문자열을 입력하시오>> 010-5179-8179\n",
      "분리 기준 문자>> -\n"
     ]
    },
    {
     "data": {
      "text/plain": [
       "['010', '5179', '8179']"
      ]
     },
     "execution_count": 148,
     "metadata": {},
     "output_type": "execute_result"
    }
   ],
   "source": [
    "str = input(\"문자열을 입력하시오>> \")\n",
    "s = input(\"분리 기준 문자>> \")\n",
    "str.split(s)"
   ]
  },
  {
   "cell_type": "code",
   "execution_count": 151,
   "id": "5ea43918",
   "metadata": {},
   "outputs": [
    {
     "name": "stdout",
     "output_type": "stream",
     "text": [
      "이름 >> 지영\n",
      "주민번호 7자리를 입력하세요 >> 9903012\n",
      "지영님은 99년 03월 01일에 태어났고, 성별은 여자입니다.\n"
     ]
    }
   ],
   "source": [
    "name = input(\"이름 >> \")\n",
    "num = input(\"주민번호 7자리를 입력하세요 >> \")\n",
    "g = ''\n",
    "if num[-1:] == '1' or num[-1:] == '3' :\n",
    "    g = '남자'\n",
    "elif num[-1:] == '2' or num[-1:] == '4' :\n",
    "    g = '여자'\n",
    "    \n",
    "print(\"{}님은 {}년 {}월 {}일에 태어났고, 성별은 {}입니다.\".format(name,num[:2],num[2:4],num[4:6],g))"
   ]
  },
  {
   "cell_type": "code",
   "execution_count": 152,
   "id": "ac4130b1",
   "metadata": {},
   "outputs": [
    {
     "name": "stdout",
     "output_type": "stream",
     "text": [
      "*\n",
      "**\n",
      "***\n",
      "****\n",
      "*****\n",
      "******\n"
     ]
    }
   ],
   "source": [
    "for i in range(1,7):\n",
    "    print('*'*i)"
   ]
  },
  {
   "cell_type": "code",
   "execution_count": 66,
   "id": "50806136",
   "metadata": {},
   "outputs": [
    {
     "name": "stdout",
     "output_type": "stream",
     "text": [
      "가 나 다 라 마 "
     ]
    }
   ],
   "source": [
    "my_list = [\"가\",\"나\",\"다\",\"라\",\"마\"]\n",
    "for i in range(len(my_list)):\n",
    "    print()"
   ]
  },
  {
   "cell_type": "code",
   "execution_count": 67,
   "id": "160e145d",
   "metadata": {},
   "outputs": [
    {
     "name": "stdout",
     "output_type": "stream",
     "text": [
      "가 나 다\n",
      "나 다 라\n",
      "다 라 마\n"
     ]
    }
   ],
   "source": [
    "my_list = [\"가\", \"나\", \"다\", \"라\", \"마\"]\n",
    "\n",
    "for i in range(3):\n",
    "    print(f\"{my_list[i]} {my_list[i+1]} {my_list[i+2]}\")\n",
    "    "
   ]
  },
  {
   "cell_type": "code",
   "execution_count": 153,
   "id": "68372f53",
   "metadata": {},
   "outputs": [
    {
     "name": "stdout",
     "output_type": "stream",
     "text": [
      "Life is too short, You need python."
     ]
    }
   ],
   "source": [
    "s = \".nohtyp deen uoY ,trohs oot si efiL\"\n",
    "for i in range(len(s)-1,-1,-1):\n",
    "    print(s[i], end=\"\")"
   ]
  },
  {
   "cell_type": "code",
   "execution_count": 154,
   "id": "77d976e7",
   "metadata": {
    "scrolled": true
   },
   "outputs": [
    {
     "name": "stdout",
     "output_type": "stream",
     "text": [
      "Life is too short ,Yon need python.\n"
     ]
    }
   ],
   "source": [
    "s=\".nohtyp deen noY, trohs oot si efiL\"\n",
    "s2=\"\"\n",
    "for i in range(len(s)-1,-1, -1):\n",
    "    s2+=s[i]\n",
    "print(s2)"
   ]
  },
  {
   "cell_type": "code",
   "execution_count": 76,
   "id": "ff72e521",
   "metadata": {},
   "outputs": [],
   "source": [
    "import random"
   ]
  },
  {
   "cell_type": "code",
   "execution_count": 134,
   "id": "7246f178",
   "metadata": {},
   "outputs": [
    {
     "name": "stdout",
     "output_type": "stream",
     "text": [
      "숫자를 입력하세요 >> 50\n",
      "50보다 작은 수 입니다.\n",
      "숫자를 입력하세요 >> 25\n",
      "25보다 작은 수 입니다.\n",
      "숫자를 입력하세요 >> 12\n",
      "12보다 큰 수 입니다.\n",
      "숫자를 입력하세요 >> 18\n",
      "18보다 큰 수 입니다.\n",
      "숫자를 입력하세요 >> 22\n",
      "정답입니다.\n"
     ]
    }
   ],
   "source": [
    "r = random.randint(1,50)\n",
    "\n",
    "while True:\n",
    "    num = int(input(\"숫자를 입력하세요 >> \"))\n",
    "    \n",
    "    if r > num:\n",
    "        print(f\"{num}보다 큰 수 입니다.\")\n",
    "    elif r < num:\n",
    "        print(f\"{num}보다 작은 수 입니다.\")\n",
    "    elif r == num:\n",
    "        print(\"정답입니다.\")\n",
    "        break"
   ]
  },
  {
   "cell_type": "code",
   "execution_count": 144,
   "id": "87c856b9",
   "metadata": {},
   "outputs": [
    {
     "name": "stdout",
     "output_type": "stream",
     "text": [
      "2단:  2*1=2 2*2=4 2*3=6 2*4=8 2*5=10 2*6=12 2*7=14 2*8=16 2*9=18 \n",
      "3단:  3*1=3 3*2=6 3*3=9 3*4=12 3*5=15 3*6=18 3*7=21 3*8=24 3*9=27 \n",
      "4단:  4*1=4 4*2=8 4*3=12 4*4=16 4*5=20 4*6=24 4*7=28 4*8=32 4*9=36 \n",
      "5단:  5*1=5 5*2=10 5*3=15 5*4=20 5*5=25 5*6=30 5*7=35 5*8=40 5*9=45 \n",
      "6단:  6*1=6 6*2=12 6*3=18 6*4=24 6*5=30 6*6=36 6*7=42 6*8=48 6*9=54 \n",
      "7단:  7*1=7 7*2=14 7*3=21 7*4=28 7*5=35 7*6=42 7*7=49 7*8=56 7*9=63 \n",
      "8단:  8*1=8 8*2=16 8*3=24 8*4=32 8*5=40 8*6=48 8*7=56 8*8=64 8*9=72 \n",
      "9단:  9*1=9 9*2=18 9*3=27 9*4=36 9*5=45 9*6=54 9*7=63 9*8=72 9*9=81 \n"
     ]
    }
   ],
   "source": [
    "for i in range(2,10):\n",
    "    print(f\"{i}단: \",end=\" \")\n",
    "    for j in range(1,10):\n",
    "        print(f\"{i}*{j}={i*j}\",end=\" \")\n",
    "    print()"
   ]
  },
  {
   "cell_type": "code",
   "execution_count": null,
   "id": "9f448391",
   "metadata": {},
   "outputs": [],
   "source": []
  },
  {
   "cell_type": "code",
   "execution_count": null,
   "id": "5c0117bd",
   "metadata": {},
   "outputs": [],
   "source": []
  },
  {
   "cell_type": "code",
   "execution_count": null,
   "id": "3fe62d1a",
   "metadata": {},
   "outputs": [],
   "source": []
  },
  {
   "cell_type": "code",
   "execution_count": null,
   "id": "64b3acfe",
   "metadata": {},
   "outputs": [],
   "source": []
  },
  {
   "cell_type": "code",
   "execution_count": null,
   "id": "eb20c764",
   "metadata": {},
   "outputs": [],
   "source": []
  },
  {
   "cell_type": "code",
   "execution_count": null,
   "id": "fe527f7e",
   "metadata": {},
   "outputs": [],
   "source": []
  },
  {
   "cell_type": "code",
   "execution_count": null,
   "id": "e4e1a2fa",
   "metadata": {},
   "outputs": [],
   "source": []
  },
  {
   "cell_type": "code",
   "execution_count": null,
   "id": "5b11263d",
   "metadata": {},
   "outputs": [],
   "source": []
  },
  {
   "cell_type": "code",
   "execution_count": null,
   "id": "04330717",
   "metadata": {},
   "outputs": [],
   "source": []
  },
  {
   "cell_type": "code",
   "execution_count": null,
   "id": "9aac99b5",
   "metadata": {},
   "outputs": [],
   "source": []
  },
  {
   "cell_type": "code",
   "execution_count": null,
   "id": "3d3e8354",
   "metadata": {},
   "outputs": [],
   "source": []
  },
  {
   "cell_type": "code",
   "execution_count": null,
   "id": "8985b088",
   "metadata": {},
   "outputs": [],
   "source": []
  },
  {
   "cell_type": "code",
   "execution_count": null,
   "id": "f0b69999",
   "metadata": {},
   "outputs": [],
   "source": []
  },
  {
   "cell_type": "code",
   "execution_count": null,
   "id": "5faa4f67",
   "metadata": {},
   "outputs": [],
   "source": []
  },
  {
   "cell_type": "code",
   "execution_count": null,
   "id": "38099058",
   "metadata": {},
   "outputs": [],
   "source": []
  },
  {
   "cell_type": "code",
   "execution_count": null,
   "id": "07bd5842",
   "metadata": {},
   "outputs": [],
   "source": []
  },
  {
   "cell_type": "code",
   "execution_count": null,
   "id": "199ba977",
   "metadata": {},
   "outputs": [],
   "source": []
  },
  {
   "cell_type": "code",
   "execution_count": null,
   "id": "705dac2d",
   "metadata": {},
   "outputs": [],
   "source": []
  },
  {
   "cell_type": "code",
   "execution_count": null,
   "id": "659bf9d3",
   "metadata": {},
   "outputs": [],
   "source": []
  },
  {
   "cell_type": "code",
   "execution_count": null,
   "id": "3ec70511",
   "metadata": {},
   "outputs": [],
   "source": []
  }
 ],
 "metadata": {
  "kernelspec": {
   "display_name": "Python 3 (ipykernel)",
   "language": "python",
   "name": "python3"
  },
  "language_info": {
   "codemirror_mode": {
    "name": "ipython",
    "version": 3
   },
   "file_extension": ".py",
   "mimetype": "text/x-python",
   "name": "python",
   "nbconvert_exporter": "python",
   "pygments_lexer": "ipython3",
   "version": "3.9.7"
  }
 },
 "nbformat": 4,
 "nbformat_minor": 5
}
