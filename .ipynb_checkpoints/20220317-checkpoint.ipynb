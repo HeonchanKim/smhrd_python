{
 "cells": [
  {
   "cell_type": "markdown",
   "id": "85a62c6a",
   "metadata": {},
   "source": [
    "## 조건문\n",
    "- 상황에 따라 실행 흐름을 다르게 하는 문법\n",
    "- if, elif, else"
   ]
  },
  {
   "cell_type": "code",
   "execution_count": null,
   "id": "2abaa257",
   "metadata": {},
   "outputs": [],
   "source": [
    "if 조건식 :\n",
    "    실행문장"
   ]
  },
  {
   "cell_type": "code",
   "execution_count": 1,
   "id": "fa5bf622",
   "metadata": {},
   "outputs": [
    {
     "name": "stdout",
     "output_type": "stream",
     "text": [
      "실행문장 실행\n",
      "if문 밖에있는 문장 실행\n"
     ]
    }
   ],
   "source": [
    "if True:\n",
    "    print(\"실행문장 실행\")\n",
    "print(\"if문 밖에있는 문장 실행\")"
   ]
  },
  {
   "cell_type": "code",
   "execution_count": 2,
   "id": "937f8a02",
   "metadata": {},
   "outputs": [
    {
     "name": "stdout",
     "output_type": "stream",
     "text": [
      "if문 밖에있는 문장 실행\n"
     ]
    }
   ],
   "source": [
    "if False:\n",
    "    print(\"실행문장 실행\")\n",
    "print(\"if문 밖에있는 문장 실행\")"
   ]
  },
  {
   "cell_type": "code",
   "execution_count": 4,
   "id": "86015c9e",
   "metadata": {},
   "outputs": [
    {
     "name": "stdout",
     "output_type": "stream",
     "text": [
      "얼마있니??50000\n",
      "택시를 탄다.\n"
     ]
    }
   ],
   "source": [
    "money = int(input(\"얼마있니??\"))\n",
    "if money >= 10000:\n",
    "    print(\"택시를 탄다.\")"
   ]
  },
  {
   "cell_type": "code",
   "execution_count": 6,
   "id": "f6df6730",
   "metadata": {},
   "outputs": [
    {
     "name": "stdout",
     "output_type": "stream",
     "text": [
      "얼마있니??500\n",
      "버스를 탄다\n"
     ]
    }
   ],
   "source": [
    "money = int(input(\"얼마있니??\"))\n",
    "if money >= 10000:\n",
    "    print(\"택시를 탄다.\")\n",
    "else:\n",
    "    print(\"버스를 탄다\")"
   ]
  },
  {
   "cell_type": "code",
   "execution_count": 13,
   "id": "c27c74c7",
   "metadata": {},
   "outputs": [
    {
     "name": "stdout",
     "output_type": "stream",
     "text": [
      "정수 입력 >> 3\n",
      "3과 5의 배수가 아닙니다\n"
     ]
    }
   ],
   "source": [
    "num = int(input(\"정수 입력 >> \"))\n",
    "if num%3==0 and num%5==0:\n",
    "    print(\"3과 5의 배수입니다.\")\n",
    "else:\n",
    "    print(\"3과 5의 배수가 아닙니다\")"
   ]
  },
  {
   "cell_type": "code",
   "execution_count": 17,
   "id": "c80613a1",
   "metadata": {},
   "outputs": [
    {
     "name": "stdout",
     "output_type": "stream",
     "text": [
      "첫 번째 정수 입력 >> 13\n",
      "두 번째 정수 입력 >> 13\n",
      "두 수가 똑같습니다.\n"
     ]
    }
   ],
   "source": [
    "num1 = int(input(\"첫 번째 정수 입력 >> \"))\n",
    "num2 = int(input(\"두 번째 정수 입력 >> \"))\n",
    "if num1>num2:\n",
    "    print(\"첫 번째 정수가 더 큽니다.\")\n",
    "elif num2>num1:\n",
    "    print(\"두 번째 정수가 더 큽니다.\")\n",
    "else:\n",
    "    print(\"두 수가 똑같습니다.\")"
   ]
  },
  {
   "cell_type": "code",
   "execution_count": 24,
   "id": "1e0943e8",
   "metadata": {},
   "outputs": [
    {
     "name": "stdout",
     "output_type": "stream",
     "text": [
      "점수 입력 >> 95\n",
      "95점은 A학점 입니다.\n"
     ]
    }
   ],
   "source": [
    "score = int(input(\"점수 입력 >> \"))\n",
    "\n",
    "if score <= 100 and score >= 90:\n",
    "    grade= \"A\"\n",
    "elif score >= 80:\n",
    "    grade= \"B\"\n",
    "elif score >= 70:\n",
    "    grade= \"C\"\n",
    "elif score >= 60:\n",
    "    grade= \"D\"\n",
    "else:\n",
    "    grade= \"F\"\n",
    "    \n",
    "print(\"{}점은 {}학점 입니다.\".format(score, grade))"
   ]
  },
  {
   "cell_type": "code",
   "execution_count": 45,
   "id": "7dd12bcf",
   "metadata": {},
   "outputs": [
    {
     "name": "stdout",
     "output_type": "stream",
     "text": [
      "\n",
      "================================================\n",
      "================---- 자판기 ----================\n",
      "================================================\n",
      "== 1.콜라 == 2.사이다 ==  3.물  =======insert===\n",
      "==--------==----------==--------=======------===\n",
      "==   600  ==    800   ==  1000  ======= O00원===\n",
      "=======================================------===\n",
      "================================================\n",
      "==++++++++++++++++++++++++++++++++++++++++++++==\n",
      "==++++++++++++++++++++++++++++++++++++++++++++==\n",
      "==++++++++++++++++++++++++++++++++++++++++++++==\n",
      "==+++++++++++++++              +++++++++++++++==\n",
      "==+++++++++++++++     SMHRD    +++++++++++++++==\n",
      "==+++++++++++++++              +++++++++++++++==\n",
      "==++++++++++++++++++++++++++++++++++++++++++++==\n",
      "==++++++++++++++++++++++++++++++++++++++++++++==\n",
      "================================================\n",
      "================================================\n",
      "  ===                                      ===\n",
      "  ===                                      ===\n",
      "\n",
      "insert coin >>2700\n",
      "메뉴 선택 >>2\n",
      "잔돈 >> 1000원 1개, 500원 1개, 100원 4개\n",
      "남은 금액 >> 1900원\n"
     ]
    }
   ],
   "source": [
    "print('''\n",
    "================================================\n",
    "================---- 자판기 ----================\n",
    "================================================\n",
    "== 1.콜라 == 2.사이다 ==  3.물  =======insert===\n",
    "==--------==----------==--------=======------===\n",
    "==   600  ==    800   ==  1000  ======= O00원===\n",
    "=======================================------===\n",
    "================================================\n",
    "==++++++++++++++++++++++++++++++++++++++++++++==\n",
    "==++++++++++++++++++++++++++++++++++++++++++++==\n",
    "==++++++++++++++++++++++++++++++++++++++++++++==\n",
    "==+++++++++++++++              +++++++++++++++==\n",
    "==+++++++++++++++     SMHRD    +++++++++++++++==\n",
    "==+++++++++++++++              +++++++++++++++==\n",
    "==++++++++++++++++++++++++++++++++++++++++++++==\n",
    "==++++++++++++++++++++++++++++++++++++++++++++==\n",
    "================================================\n",
    "================================================\n",
    "  ===                                      ===\n",
    "  ===                                      ===\n",
    "''')\n",
    "coin = int(input(\"insert coin >>\"))\n",
    "num = int(input(\"메뉴 선택 >>\"))\n",
    "\n",
    "if num==1:\n",
    "    result = coin-600\n",
    "elif num==2:\n",
    "    result = coin-800\n",
    "elif num==3:\n",
    "    result = coin-1000\n",
    "else:\n",
    "    print(\"잘못 입력\")\n",
    "\n",
    "if coin > 0:\n",
    "    print(\"잔돈 >> 1000원 {}개, 500원 {}개, 100원 {}개\".format(result//1000, (result%1000)//500, ((result%1000)%500)//100))\n",
    "    print(\"남은 금액 >> {}원\".format(result));\n",
    "else:\n",
    "    print(\"잔액 부족\")"
   ]
  },
  {
   "cell_type": "markdown",
   "id": "eb05655c",
   "metadata": {},
   "source": [
    "## 리스트\n",
    "- 파이썬의 자료구조 형태 중 하나\n",
    "- 순서가 있는 수정 가능한 객체의 집합\n",
    "- 대괄호([,])로 작성이 되어지고 리스트 내부의 값은 콤마(,)로 구분이 된다.\n",
    "- 추가, 수정, 삭제 가능하다"
   ]
  },
  {
   "cell_type": "code",
   "execution_count": 53,
   "id": "8832928b",
   "metadata": {},
   "outputs": [
    {
     "name": "stdout",
     "output_type": "stream",
     "text": [
      "[1, 2, ['my', 'name']]\n"
     ]
    }
   ],
   "source": [
    "a = []\n",
    "b = [1,2,3]\n",
    "c = ['My', 'name']\n",
    "d = [1,2,'My','name']\n",
    "e = [1,2,['my','name']]\n",
    "print(e)"
   ]
  },
  {
   "cell_type": "code",
   "execution_count": 56,
   "id": "48380cb5",
   "metadata": {},
   "outputs": [
    {
     "name": "stdout",
     "output_type": "stream",
     "text": [
      "2\n",
      "9\n",
      "17\n"
     ]
    }
   ],
   "source": [
    "list1 = [2,5,7,9,10]\n",
    "print(list1[0])\n",
    "print(list1[-2])\n",
    "print(list1[2]+list1[-1])"
   ]
  },
  {
   "cell_type": "code",
   "execution_count": 59,
   "id": "7be3b1b4",
   "metadata": {},
   "outputs": [
    {
     "name": "stdout",
     "output_type": "stream",
     "text": [
      "['a', 'b', 'c']\n",
      "b\n"
     ]
    }
   ],
   "source": [
    "list2 = [1,2,3,['a','b','c']]\n",
    "temp = list2[3]\n",
    "print(temp)\n",
    "print(list2[3][1])"
   ]
  },
  {
   "cell_type": "code",
   "execution_count": 61,
   "id": "33103878",
   "metadata": {},
   "outputs": [
    {
     "name": "stdout",
     "output_type": "stream",
     "text": [
      "[1, 2]\n",
      "[0, 1, 2, 3, 4]\n"
     ]
    }
   ],
   "source": [
    "list3 = [0,1,2,3,4]\n",
    "print(list3[1:3])\n",
    "print(list3[:])"
   ]
  },
  {
   "cell_type": "code",
   "execution_count": 63,
   "id": "a7e8b005",
   "metadata": {},
   "outputs": [
    {
     "name": "stdout",
     "output_type": "stream",
     "text": [
      "[0, 1, 2, 3, 4, 5]\n"
     ]
    }
   ],
   "source": [
    "##리스트 값 추가 -> append() 맨 뒤에 값을 추가할 수 있는 함수\n",
    "list4 = [0,1,2,3,4]\n",
    "list4.append(5)\n",
    "print(list4)"
   ]
  },
  {
   "cell_type": "code",
   "execution_count": 66,
   "id": "160fd272",
   "metadata": {},
   "outputs": [
    {
     "name": "stdout",
     "output_type": "stream",
     "text": [
      "['사과', '수박', '오렌지']\n"
     ]
    }
   ],
   "source": [
    "list = ['사과', '포도', ['수박', '멜론'], '복숭아', '딸기', '오렌지']\n",
    "apple = list[0]\n",
    "watermelon = list[2][0]\n",
    "orange = list[-1]\n",
    "\n",
    "choice_list = []\n",
    "choice_list.append(apple)\n",
    "choice_list.append(watermelon)\n",
    "choice_list.append(orange)\n",
    "\n",
    "print(choice_list)"
   ]
  },
  {
   "cell_type": "code",
   "execution_count": 68,
   "id": "c0c75109",
   "metadata": {},
   "outputs": [
    {
     "name": "stdout",
     "output_type": "stream",
     "text": [
      "[0, 5, 1, 2, 3, 4]\n"
     ]
    }
   ],
   "source": [
    "#리스트 값 추가 -> insert(인덱스위치, 값) 인덱스 위치에 값을 추가할 수 있는 함수\n",
    "list5 = [0,1,2,3,4]\n",
    "list5.insert(1,5)\n",
    "print(list5)"
   ]
  },
  {
   "cell_type": "code",
   "execution_count": 70,
   "id": "b8744ee4",
   "metadata": {},
   "outputs": [
    {
     "name": "stdout",
     "output_type": "stream",
     "text": [
      "인덱스위치입력 >> 2\n",
      "노래제목입력 >> 롤린\n",
      "가수입력 >> 브레이브걸스\n",
      "music_list:  [['Butter', '방탄'], ['헤픈 우연', '헤이즈'], ['롤린', '브레이브걸스'], ['라일락', '아이유']]\n"
     ]
    }
   ],
   "source": [
    "music_list = [['Butter','방탄'],['헤픈 우연', '헤이즈'], ['라일락','아이유']]\n",
    "\n",
    "loc = int(input(\"인덱스위치입력 >> \"))\n",
    "song = input(\"노래제목입력 >> \")\n",
    "singer = input(\"가수입력 >> \")\n",
    "\n",
    "music_list.insert(loc, [song,singer])\n",
    "print('music_list:', music_list)"
   ]
  },
  {
   "cell_type": "code",
   "execution_count": 71,
   "id": "d6a2a919",
   "metadata": {},
   "outputs": [],
   "source": [
    "list6 = [0,1,2,3,4]\n",
    "list6[1] = 5"
   ]
  },
  {
   "cell_type": "code",
   "execution_count": 72,
   "id": "a9543d6a",
   "metadata": {},
   "outputs": [
    {
     "name": "stdout",
     "output_type": "stream",
     "text": [
      "[0, 5, 2, 3, 4]\n"
     ]
    }
   ],
   "source": [
    "print(list6)"
   ]
  },
  {
   "cell_type": "code",
   "execution_count": 74,
   "id": "ae589bc6",
   "metadata": {},
   "outputs": [],
   "source": [
    "list6[2:4] = [6]"
   ]
  },
  {
   "cell_type": "code",
   "execution_count": 75,
   "id": "7065a821",
   "metadata": {},
   "outputs": [
    {
     "name": "stdout",
     "output_type": "stream",
     "text": [
      "[0, 5, 6, 4]\n"
     ]
    }
   ],
   "source": [
    "print(list6)"
   ]
  },
  {
   "cell_type": "code",
   "execution_count": 86,
   "id": "c80a760e",
   "metadata": {},
   "outputs": [],
   "source": [
    "array = [1,2,3,4,5]"
   ]
  },
  {
   "cell_type": "code",
   "execution_count": 87,
   "id": "bf8b9ed2",
   "metadata": {},
   "outputs": [
    {
     "name": "stdout",
     "output_type": "stream",
     "text": [
      "[1, 2, 3, 4, 7]\n"
     ]
    }
   ],
   "source": [
    "array[-1] = 7\n",
    "print(array)"
   ]
  },
  {
   "cell_type": "code",
   "execution_count": 88,
   "id": "3a219583",
   "metadata": {},
   "outputs": [
    {
     "name": "stdout",
     "output_type": "stream",
     "text": [
      "[1, ['a', 'b', 'c'], 3, 4, 7]\n"
     ]
    }
   ],
   "source": [
    "array[1] = ['a','b','c']\n",
    "print(array)"
   ]
  },
  {
   "cell_type": "code",
   "execution_count": 89,
   "id": "9022c3ff",
   "metadata": {},
   "outputs": [
    {
     "name": "stdout",
     "output_type": "stream",
     "text": [
      "[1, ['a', 'b', 'c'], 3, 'd', 'e', 'f', 'g']\n"
     ]
    }
   ],
   "source": [
    "array[-2:] = 'd', 'e', 'f', 'g'\n",
    "print(array)"
   ]
  },
  {
   "cell_type": "code",
   "execution_count": 90,
   "id": "697389e3",
   "metadata": {},
   "outputs": [
    {
     "name": "stdout",
     "output_type": "stream",
     "text": [
      "['h', 'i', 'j', ['a', 'b', 'c'], 3, 'd', 'e', 'f', 'g']\n"
     ]
    }
   ],
   "source": [
    "array[:1] = 'h', 'i', 'j'\n",
    "print(array)"
   ]
  },
  {
   "cell_type": "code",
   "execution_count": 97,
   "id": "dc39116a",
   "metadata": {},
   "outputs": [
    {
     "name": "stdout",
     "output_type": "stream",
     "text": [
      "[0, 2, 3, 4, 5]\n"
     ]
    }
   ],
   "source": [
    "#리스트 값 삭제\n",
    "list7 = [0,1,2,3,4,5]\n",
    "#del 리스트명[인덱스값]\n",
    "del list7[1]\n",
    "print(list7)"
   ]
  },
  {
   "cell_type": "code",
   "execution_count": 98,
   "id": "a116f276",
   "metadata": {},
   "outputs": [
    {
     "name": "stdout",
     "output_type": "stream",
     "text": [
      "[0, 2, 5]\n"
     ]
    }
   ],
   "source": [
    "del list7[2:4]\n",
    "print(list7)"
   ]
  },
  {
   "cell_type": "code",
   "execution_count": 99,
   "id": "ddc5ef95",
   "metadata": {},
   "outputs": [
    {
     "name": "stdout",
     "output_type": "stream",
     "text": [
      "['a', 'c', 'd', 'e']\n"
     ]
    }
   ],
   "source": [
    "#리스트 값 삭제 -> remove(값)\n",
    "list7 = ['a','b','c','d','e']\n",
    "list7.remove('b')\n",
    "print(list7)"
   ]
  },
  {
   "cell_type": "code",
   "execution_count": 102,
   "id": "58630fec",
   "metadata": {},
   "outputs": [
    {
     "name": "stdout",
     "output_type": "stream",
     "text": [
      "[3, 9, 13, 51, 77, 100]\n"
     ]
    }
   ],
   "source": [
    "#리스트 오름차순 정렬 -> sort\n",
    "list8 = [9,77,13,51,100,3]\n",
    "list8.sort()\n",
    "print(list8)"
   ]
  },
  {
   "cell_type": "code",
   "execution_count": 104,
   "id": "4a17860e",
   "metadata": {},
   "outputs": [
    {
     "name": "stdout",
     "output_type": "stream",
     "text": [
      "[56, 3, 5, 10, 9]\n"
     ]
    }
   ],
   "source": [
    "#리스트 순서를 거꾸로 뒤집기 -> reverse()\n",
    "list9 = [9,10,5,3,56]\n",
    "list9.reverse()\n",
    "print(list9)\n"
   ]
  },
  {
   "cell_type": "code",
   "execution_count": 108,
   "id": "57db410a",
   "metadata": {},
   "outputs": [
    {
     "name": "stdout",
     "output_type": "stream",
     "text": [
      "[56, 10, 9, 5, 3]\n"
     ]
    }
   ],
   "source": [
    "list9 = [9,10,5,3,56]\n",
    "list9.sort()\n",
    "list9.reverse()\n",
    "print(list9)"
   ]
  },
  {
   "cell_type": "code",
   "execution_count": 113,
   "id": "6cd3c4b0",
   "metadata": {},
   "outputs": [],
   "source": [
    "list9 = [9,10,5,3,56]\n",
    "list9.sort(reverse = True)"
   ]
  },
  {
   "cell_type": "code",
   "execution_count": 114,
   "id": "f9331334",
   "metadata": {},
   "outputs": [
    {
     "name": "stdout",
     "output_type": "stream",
     "text": [
      "[56, 10, 9, 5, 3]\n"
     ]
    }
   ],
   "source": [
    "print(list9)"
   ]
  },
  {
   "cell_type": "code",
   "execution_count": 115,
   "id": "59859106",
   "metadata": {},
   "outputs": [
    {
     "data": {
      "text/plain": [
       "2"
      ]
     },
     "execution_count": 115,
     "metadata": {},
     "output_type": "execute_result"
    }
   ],
   "source": [
    "#리스트 값 위치 반환 -> index()\n",
    "list11 = ['a', 'b', 'c', 'd', 'e']\n",
    "list11.index('c')"
   ]
  },
  {
   "cell_type": "code",
   "execution_count": 116,
   "id": "6fe34eb6",
   "metadata": {},
   "outputs": [
    {
     "data": {
      "text/plain": [
       "'e'"
      ]
     },
     "execution_count": 116,
     "metadata": {},
     "output_type": "execute_result"
    }
   ],
   "source": [
    "#리스트 값을 반환한 다음 리스트에서 제거 -> pop()\n",
    "list11 = ['a', 'b', 'c', 'd', 'e']\n",
    "list11.pop()"
   ]
  },
  {
   "cell_type": "code",
   "execution_count": 117,
   "id": "70da05de",
   "metadata": {},
   "outputs": [
    {
     "name": "stdout",
     "output_type": "stream",
     "text": [
      "['a', 'b', 'c', 'd']\n"
     ]
    }
   ],
   "source": [
    "print(list11)"
   ]
  },
  {
   "cell_type": "code",
   "execution_count": 118,
   "id": "3d5473bc",
   "metadata": {},
   "outputs": [
    {
     "data": {
      "text/plain": [
       "2"
      ]
     },
     "execution_count": 118,
     "metadata": {},
     "output_type": "execute_result"
    }
   ],
   "source": [
    "#리스트에서 찾고자하는 데이터가 몇번 들어있는 지 확인하는 함수 -> count()\n",
    "list12 = ['a','b','b','v','c','d']\n",
    "list12.count('b')"
   ]
  },
  {
   "cell_type": "code",
   "execution_count": 119,
   "id": "423e35bc",
   "metadata": {},
   "outputs": [
    {
     "data": {
      "text/plain": [
       "6"
      ]
     },
     "execution_count": 119,
     "metadata": {},
     "output_type": "execute_result"
    }
   ],
   "source": [
    "#리스트의 값 개수 반환\n",
    "len(list12)"
   ]
  },
  {
   "cell_type": "markdown",
   "id": "4a0c574f",
   "metadata": {},
   "source": [
    "## 튜플\n",
    "- 파이썬의 자료구조 형태중 하나\n",
    "- 순서가 있는 집합\n",
    "- 소괄호((,))로 작성이 되어지며, 튜플의 내부 값은 콤마(,)로 구분\n",
    "- 추가, 수정, 삭제 불가능"
   ]
  },
  {
   "cell_type": "code",
   "execution_count": 122,
   "id": "9f4682d1",
   "metadata": {},
   "outputs": [
    {
     "name": "stdout",
     "output_type": "stream",
     "text": [
      "(1, 2, ('My', 'name'))\n"
     ]
    }
   ],
   "source": [
    "a = ()\n",
    "b = (1,2,3)\n",
    "c = ('My', 'name')\n",
    "d = (1,2, 'My', 'name')\n",
    "e = (1,2,('My', 'name'))\n",
    "print(e)"
   ]
  },
  {
   "cell_type": "code",
   "execution_count": 123,
   "id": "8eaa109e",
   "metadata": {},
   "outputs": [
    {
     "ename": "TypeError",
     "evalue": "'tuple' object does not support item assignment",
     "output_type": "error",
     "traceback": [
      "\u001b[1;31m---------------------------------------------------------------------------\u001b[0m",
      "\u001b[1;31mTypeError\u001b[0m                                 Traceback (most recent call last)",
      "\u001b[1;32m~\\AppData\\Local\\Temp/ipykernel_7960/472956431.py\u001b[0m in \u001b[0;36m<module>\u001b[1;34m\u001b[0m\n\u001b[0;32m      1\u001b[0m \u001b[0mtuple1\u001b[0m \u001b[1;33m=\u001b[0m \u001b[1;33m(\u001b[0m\u001b[1;36m0\u001b[0m\u001b[1;33m,\u001b[0m\u001b[1;36m1\u001b[0m\u001b[1;33m,\u001b[0m\u001b[1;36m2\u001b[0m\u001b[1;33m,\u001b[0m\u001b[1;36m3\u001b[0m\u001b[1;33m,\u001b[0m\u001b[1;36m4\u001b[0m\u001b[1;33m,\u001b[0m\u001b[1;33m(\u001b[0m\u001b[1;34m'a'\u001b[0m\u001b[1;33m,\u001b[0m\u001b[1;34m'b'\u001b[0m\u001b[1;33m)\u001b[0m\u001b[1;33m)\u001b[0m\u001b[1;33m\u001b[0m\u001b[1;33m\u001b[0m\u001b[0m\n\u001b[1;32m----> 2\u001b[1;33m \u001b[0mtuple1\u001b[0m\u001b[1;33m[\u001b[0m\u001b[1;36m4\u001b[0m\u001b[1;33m]\u001b[0m \u001b[1;33m=\u001b[0m \u001b[1;36m5\u001b[0m\u001b[1;33m\u001b[0m\u001b[1;33m\u001b[0m\u001b[0m\n\u001b[0m",
      "\u001b[1;31mTypeError\u001b[0m: 'tuple' object does not support item assignment"
     ]
    }
   ],
   "source": [
    "tuple1 = (0,1,2,3,4,('a','b'))\n",
    "tuple1[4] = 5"
   ]
  },
  {
   "cell_type": "code",
   "execution_count": 127,
   "id": "e20bbb33",
   "metadata": {},
   "outputs": [
    {
     "name": "stdout",
     "output_type": "stream",
     "text": [
      "검색할 문자를 입력하세요 >> 포도\n",
      "포도는 리스트에 4번째 인덱스에 들어있습니다.\n"
     ]
    }
   ],
   "source": [
    "lst = ['딸기', '바나나', '수박', '체리', '포도']\n",
    "str1 = input(\"검색할 문자를 입력하세요 >> \")\n",
    "if str1 in lst:\n",
    "    print(\"{}는 리스트에 {}번째 인덱스에 들어있습니다.\".format(str1,lst.index(str1)))\n",
    "else:\n",
    "    print(\"{}는 리스트에 들어있찌 않습니다.\".format(str1))"
   ]
  },
  {
   "cell_type": "code",
   "execution_count": 130,
   "id": "da5f29b1",
   "metadata": {},
   "outputs": [
    {
     "name": "stdout",
     "output_type": "stream",
     "text": [
      "검색할 문자를 입력하세요 : i\n",
      "i는 3번 들어 있습니다.\n"
     ]
    }
   ],
   "source": [
    "s = \"Hi, My name is Mihee\"\n",
    "str2 = input(\"검색할 문자를 입력하세요 : \")\n",
    "\n",
    "if str2 not in s:\n",
    "    print(\"{}는 문자열에 들어있지 않습니다.\".format(str2))\n",
    "else:\n",
    "    print(\"{}는 {}번 들어 있습니다.\".format(str2, s.count(str2)))"
   ]
  },
  {
   "cell_type": "code",
   "execution_count": null,
   "id": "e3f87fe0",
   "metadata": {},
   "outputs": [],
   "source": []
  },
  {
   "cell_type": "code",
   "execution_count": null,
   "id": "fc565c9a",
   "metadata": {},
   "outputs": [],
   "source": []
  },
  {
   "cell_type": "code",
   "execution_count": null,
   "id": "188af92d",
   "metadata": {},
   "outputs": [],
   "source": []
  },
  {
   "cell_type": "code",
   "execution_count": null,
   "id": "019d5947",
   "metadata": {},
   "outputs": [],
   "source": []
  },
  {
   "cell_type": "code",
   "execution_count": null,
   "id": "a388ecd9",
   "metadata": {},
   "outputs": [],
   "source": []
  },
  {
   "cell_type": "code",
   "execution_count": null,
   "id": "35ce34c7",
   "metadata": {},
   "outputs": [],
   "source": []
  }
 ],
 "metadata": {
  "kernelspec": {
   "display_name": "Python 3 (ipykernel)",
   "language": "python",
   "name": "python3"
  },
  "language_info": {
   "codemirror_mode": {
    "name": "ipython",
    "version": 3
   },
   "file_extension": ".py",
   "mimetype": "text/x-python",
   "name": "python",
   "nbconvert_exporter": "python",
   "pygments_lexer": "ipython3",
   "version": "3.9.7"
  }
 },
 "nbformat": 4,
 "nbformat_minor": 5
}
